{
 "metadata": {
  "language_info": {
   "codemirror_mode": {
    "name": "ipython",
    "version": 3
   },
   "file_extension": ".py",
   "mimetype": "text/x-python",
   "name": "python",
   "nbconvert_exporter": "python",
   "pygments_lexer": "ipython3",
   "version": "3.8.5"
  },
  "orig_nbformat": 2,
  "kernelspec": {
   "name": "python3",
   "display_name": "Python 3.8.5 64-bit ('base': conda)",
   "metadata": {
    "interpreter": {
     "hash": "2b1a2dab5b39937bfde8cd4c2014704fc420e913eebe86616c7fc3d64c405cbb"
    }
   }
  }
 },
 "nbformat": 4,
 "nbformat_minor": 2,
 "cells": [
  {
   "cell_type": "code",
   "execution_count": 1,
   "metadata": {},
   "outputs": [],
   "source": [
    "import scipy.stats as stats\n",
    "import math"
   ]
  },
  {
   "cell_type": "code",
   "execution_count": 3,
   "metadata": {},
   "outputs": [
    {
     "output_type": "stream",
     "name": "stdout",
     "text": [
      "0.10934855242569191\n0.018308899851658955\n0.11095348498906421\n"
     ]
    }
   ],
   "source": [
    "print(stats.norm.cdf(-1.23, 0, math.sqrt(1)))\n",
    "print(1 - stats.norm.cdf(2.09, 0, 1))\n",
    "print(stats.norm.cdf(2.85, 0, 1) - stats.norm.cdf(1.21, 0, 1))"
   ]
  },
  {
   "cell_type": "code",
   "execution_count": 4,
   "metadata": {},
   "outputs": [
    {
     "output_type": "stream",
     "name": "stdout",
     "text": [
      "2.4892858647872407\n-1.9094815467290918\n-2.280129653030281\n"
     ]
    }
   ],
   "source": [
    "print(stats.norm.ppf(0.9936, 0, 1))\n",
    "print(stats.norm.ppf(0.0281, 0, 1))\n",
    "print(stats.norm.ppf( (1 - 0.9887), 0, 1))"
   ]
  },
  {
   "cell_type": "code",
   "execution_count": null,
   "metadata": {},
   "outputs": [],
   "source": []
  }
 ]
}