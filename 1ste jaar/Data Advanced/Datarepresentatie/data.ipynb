{
 "metadata": {
  "language_info": {
   "codemirror_mode": {
    "name": "ipython",
    "version": 3
   },
   "file_extension": ".py",
   "mimetype": "text/x-python",
   "name": "python",
   "nbconvert_exporter": "python",
   "pygments_lexer": "ipython3",
   "version": "3.8.5"
  },
  "orig_nbformat": 2,
  "kernelspec": {
   "name": "python3",
   "display_name": "Python 3.8.5 64-bit ('base': conda)",
   "metadata": {
    "interpreter": {
     "hash": "2b1a2dab5b39937bfde8cd4c2014704fc420e913eebe86616c7fc3d64c405cbb"
    }
   }
  }
 },
 "nbformat": 4,
 "nbformat_minor": 2,
 "cells": [
  {
   "cell_type": "code",
   "execution_count": 1,
   "metadata": {},
   "outputs": [],
   "source": [
    "import scipy.stats as stats\n",
    "import math"
   ]
  },
  {
   "cell_type": "code",
   "execution_count": 3,
   "metadata": {},
   "outputs": [
    {
     "output_type": "stream",
     "name": "stdout",
     "text": [
      "0.10934855242569191\n0.018308899851658955\n0.11095348498906421\n"
     ]
    }
   ],
   "source": [
    "#VB1\n",
    "print(stats.norm.cdf(-1.23, 0, math.sqrt(1)))\n",
    "print(1 - stats.norm.cdf(2.09, 0, 1))\n",
    "print(stats.norm.cdf(2.85, 0, 1) - stats.norm.cdf(1.21, 0, 1))"
   ]
  },
  {
   "cell_type": "code",
   "execution_count": 4,
   "metadata": {},
   "outputs": [
    {
     "output_type": "stream",
     "name": "stdout",
     "text": [
      "2.280129653030281\n-1.9094815467290918\n-2.280129653030281\n"
     ]
    }
   ],
   "source": [
    "#VB2\n",
    "print(stats.norm.ppf(0.9887, 0, 1))\n",
    "print(stats.norm.ppf(0.0281, 0, 1))\n",
    "print(stats.norm.ppf( (1 - 0.9887), 0, 1))"
   ]
  },
  {
   "cell_type": "code",
   "execution_count": 3,
   "metadata": {},
   "outputs": [
    {
     "output_type": "stream",
     "name": "stdout",
     "text": [
      "a.  0.9181284878696232\nb.  0.684587140248381\nc.  0.004482646557087855\nd.  2.9106364153511915e-140\n"
     ]
    }
   ],
   "source": [
    "#VB3\n",
    "print('a. ', stats.norm.cdf(180, 170.6, 6.75))\n",
    "print('b. ', stats.norm.cdf(175, 170.6, 6.75) - stats.norm.cdf(160, 170.6, 6.75))\n",
    "print('c. ', stats.norm.cdf(180.1, 170.6, 6.75) - stats.norm.cdf(179.9, 170.6, 6.75))\n",
    "print('d. ', stats.norm.cdf(0.6, 170.6, 6.75))"
   ]
  },
  {
   "cell_type": "code",
   "execution_count": 5,
   "metadata": {},
   "outputs": [
    {
     "output_type": "execute_result",
     "data": {
      "text/plain": [
       "442.815515655446"
      ]
     },
     "metadata": {},
     "execution_count": 5
    }
   ],
   "source": [
    "#VB4 punten leertest\n",
    "stats.norm.ppf(0.9, 430, math.sqrt(100))"
   ]
  },
  {
   "cell_type": "code",
   "execution_count": 6,
   "metadata": {},
   "outputs": [
    {
     "output_type": "execute_result",
     "data": {
      "text/plain": [
       "0.4120704478709426"
      ]
     },
     "metadata": {},
     "execution_count": 6
    }
   ],
   "source": [
    "#VB5 punten data advanced\n",
    "stats.norm.cdf(50, 52, 9)"
   ]
  },
  {
   "cell_type": "code",
   "execution_count": 7,
   "metadata": {},
   "outputs": [
    {
     "output_type": "execute_result",
     "data": {
      "text/plain": [
       "23.013934044341646"
      ]
     },
     "metadata": {},
     "execution_count": 7
    }
   ],
   "source": [
    "#oef1\n",
    "kans = 1 - stats.norm.cdf(140, 110, 25)\n",
    "kans * 200"
   ]
  },
  {
   "cell_type": "code",
   "execution_count": 8,
   "metadata": {},
   "outputs": [
    {
     "output_type": "stream",
     "name": "stdout",
     "text": [
      "a. P(60 < X < 75):  0.2857874067778077\nb. aantal dat examen niet afkrijgt:  9.519315235887424\nc. P(X < a) = 0.9:  92.815515655446\n"
     ]
    }
   ],
   "source": [
    "#oef2\n",
    "print('a. P(60 < X < 75): ', stats.norm.cdf(75, 80, math.sqrt(100)) - stats.norm.cdf(60, 80, math.sqrt(100)))\n",
    "kans = 1 - stats.norm.cdf(90, 80, math.sqrt(100))   # P(X > 90)\n",
    "print('b. aantal dat examen niet afkrijgt: ', kans *60)\n",
    "print('c. P(X < a) = 0.9: ', stats.norm.ppf(0.9, 80, math.sqrt(100)))"
   ]
  },
  {
   "cell_type": "code",
   "execution_count": 9,
   "metadata": {},
   "outputs": [
    {
     "output_type": "stream",
     "name": "stdout",
     "text": [
      "0.11787424632190002\n0.11787424632190002\n"
     ]
    }
   ],
   "source": [
    "#oef5\n",
    "print(stats.norm.cdf(53, 58, 4) + (1 - stats.norm.cdf(67, 58, 4)))\n",
    "#alternatief\n",
    "print(1 - (stats.norm.cdf(67, 58, 4) - stats.norm.cdf(53, 58, 4)))"
   ]
  },
  {
   "cell_type": "code",
   "execution_count": 12,
   "metadata": {},
   "outputs": [
    {
     "output_type": "stream",
     "name": "stdout",
     "text": [
      "a. P(X > 40000):  0.24196365222307303\nb. P(X < a) = 0.1:  30092.242172276998\n"
     ]
    }
   ],
   "source": [
    "#oef6\n",
    "print('a. P(X > 40000): ', 1 - stats.norm.cdf(40000, 36500, 5000))\n",
    "print('b. P(X < a) = 0.1: ', stats.norm.ppf(0.1, 36500, 5000))"
   ]
  },
  {
   "cell_type": "code",
   "execution_count": null,
   "metadata": {},
   "outputs": [],
   "source": []
  }
 ]
}