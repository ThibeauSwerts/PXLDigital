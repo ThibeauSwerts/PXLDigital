{
 "cells": [
  {
   "cell_type": "code",
   "execution_count": 1,
   "metadata": {},
   "outputs": [],
   "source": [
    "import pandas as pd"
   ]
  },
  {
   "cell_type": "code",
   "execution_count": 45,
   "metadata": {},
   "outputs": [],
   "source": [
    "#Zorg ervoor dat je notebook en jouw excel in dezelfde map staan\n",
    "slaagcijfers_kort = pd.read_excel(\"slaagcijfers 20162017_verkort.xlsx\")"
   ]
  },
  {
   "cell_type": "code",
   "execution_count": 46,
   "metadata": {},
   "outputs": [
    {
     "name": "stdout",
     "output_type": "stream",
     "text": [
      "0     ASO\n",
      "1     TSO\n",
      "2     TSO\n",
      "3     TSO\n",
      "4     TSO\n",
      "5     TSO\n",
      "6     TSO\n",
      "7     TSO\n",
      "8     TSO\n",
      "9     TSO\n",
      "10    TSO\n",
      "11    TSO\n",
      "12    TSO\n",
      "13    TSO\n",
      "14    TSO\n",
      "15    TSO\n",
      "16    BSO\n",
      "17    BSO\n",
      "18    BSO\n",
      "19    BSO\n",
      "Name: vooropleiding, dtype: object\n"
     ]
    }
   ],
   "source": [
    "#Cirkeldiagram via \"pandas\"\n",
    "#Selecteer kolom \"vooropleiding\"\n",
    "vooropleiding = slaagcijfers_kort['vooropleiding']\n",
    "print(vooropleiding)"
   ]
  },
  {
   "cell_type": "code",
   "execution_count": 47,
   "metadata": {},
   "outputs": [
    {
     "name": "stdout",
     "output_type": "stream",
     "text": [
      "TSO    15\n",
      "BSO     4\n",
      "ASO     1\n",
      "Name: vooropleiding, dtype: int64\n"
     ]
    }
   ],
   "source": [
    "#via methode value_counts() tellen we de absolute aantallen\n",
    "data_pie_plot = vooropleiding.value_counts()\n",
    "print(data_pie_plot)"
   ]
  },
  {
   "cell_type": "code",
   "execution_count": 48,
   "metadata": {},
   "outputs": [
    {
     "name": "stdout",
     "output_type": "stream",
     "text": [
      "AxesSubplot(0.135,0.125;0.755x0.755)\n"
     ]
    },
    {
     "data": {
      "image/png": "[encoded data removed]",
      "text/plain": [
       "<Figure size 360x360 with 1 Axes>"
      ]
     },
     "metadata": {},
     "output_type": "display_data"
    }
   ],
   "source": [
    "#via plot.pie maken we een cirkeldiagram van het categorisch gegeven \"vooropleiding\"\n",
    "pie_plot = data_pie_plot.plot.pie(figsize=(5,5), autopct='%3.2f%%', title = 'Cirkeldiagram vooropleiding')\n",
    "print(pie_plot)\n"
   ]
  },
  {
   "cell_type": "code",
   "execution_count": 49,
   "metadata": {},
   "outputs": [
    {
     "data": {
      "image/png": "[encoded data removed]",
      "text/plain": [
       "<Figure size 432x288 with 1 Axes>"
      ]
     },
     "metadata": {},
     "output_type": "display_data"
    }
   ],
   "source": [
    "#Alternatief: cirkeldiagram maken via Matplotlib\n",
    "import matplotlib.pyplot as plt\n",
    "labels = 'TSO' , 'BSO' , 'ASO'\n",
    "plt.pie(data_pie_plot, labels = labels, autopct='%1.1f%%')\n",
    "plt.title('Cirkeldiagram vooropleiding')\n",
    "plt.show()"
   ]
  },
  {
   "cell_type": "code",
   "execution_count": 50,
   "metadata": {},
   "outputs": [
    {
     "data": {
      "text/html": [
       "<div>\n",
       "<style scoped>\n",
       "    .dataframe tbody tr th:only-of-type {\n",
       "        vertical-align: middle;\n",
       "    }\n",
       "\n",
       "    .dataframe tbody tr th {\n",
       "        vertical-align: top;\n",
       "    }\n",
       "\n",
       "    .dataframe thead th {\n",
       "        text-align: right;\n",
       "    }\n",
       "</style>\n",
       "<table border=\"1\" class=\"dataframe\">\n",
       "  <thead>\n",
       "    <tr style=\"text-align: right;\">\n",
       "      <th></th>\n",
       "      <th>naam</th>\n",
       "      <th>vooropleiding</th>\n",
       "      <th>score OLOD1</th>\n",
       "      <th>tweede zit</th>\n",
       "      <th>score OLOD1 (voor afronding)</th>\n",
       "      <th>uren gestudeerd</th>\n",
       "    </tr>\n",
       "  </thead>\n",
       "  <tbody>\n",
       "    <tr>\n",
       "      <th>0</th>\n",
       "      <td>student1</td>\n",
       "      <td>ASO</td>\n",
       "      <td>17</td>\n",
       "      <td>geen</td>\n",
       "      <td>16.86</td>\n",
       "      <td>33.5</td>\n",
       "    </tr>\n",
       "    <tr>\n",
       "      <th>1</th>\n",
       "      <td>student2</td>\n",
       "      <td>TSO</td>\n",
       "      <td>10</td>\n",
       "      <td>matig</td>\n",
       "      <td>9.76</td>\n",
       "      <td>26.0</td>\n",
       "    </tr>\n",
       "    <tr>\n",
       "      <th>2</th>\n",
       "      <td>student3</td>\n",
       "      <td>TSO</td>\n",
       "      <td>15</td>\n",
       "      <td>geen</td>\n",
       "      <td>14.91</td>\n",
       "      <td>28.0</td>\n",
       "    </tr>\n",
       "    <tr>\n",
       "      <th>3</th>\n",
       "      <td>student4</td>\n",
       "      <td>TSO</td>\n",
       "      <td>8</td>\n",
       "      <td>zwaar</td>\n",
       "      <td>7.65</td>\n",
       "      <td>18.0</td>\n",
       "    </tr>\n",
       "    <tr>\n",
       "      <th>4</th>\n",
       "      <td>student5</td>\n",
       "      <td>TSO</td>\n",
       "      <td>8</td>\n",
       "      <td>zwaar</td>\n",
       "      <td>7.81</td>\n",
       "      <td>15.0</td>\n",
       "    </tr>\n",
       "    <tr>\n",
       "      <th>5</th>\n",
       "      <td>student6</td>\n",
       "      <td>TSO</td>\n",
       "      <td>8</td>\n",
       "      <td>zwaar</td>\n",
       "      <td>8.23</td>\n",
       "      <td>19.0</td>\n",
       "    </tr>\n",
       "    <tr>\n",
       "      <th>6</th>\n",
       "      <td>student7</td>\n",
       "      <td>TSO</td>\n",
       "      <td>15</td>\n",
       "      <td>geen</td>\n",
       "      <td>14.77</td>\n",
       "      <td>22.0</td>\n",
       "    </tr>\n",
       "    <tr>\n",
       "      <th>7</th>\n",
       "      <td>student8</td>\n",
       "      <td>TSO</td>\n",
       "      <td>13</td>\n",
       "      <td>geen</td>\n",
       "      <td>13.14</td>\n",
       "      <td>21.6</td>\n",
       "    </tr>\n",
       "    <tr>\n",
       "      <th>8</th>\n",
       "      <td>student9</td>\n",
       "      <td>TSO</td>\n",
       "      <td>13</td>\n",
       "      <td>geen</td>\n",
       "      <td>12.93</td>\n",
       "      <td>24.8</td>\n",
       "    </tr>\n",
       "    <tr>\n",
       "      <th>9</th>\n",
       "      <td>student10</td>\n",
       "      <td>TSO</td>\n",
       "      <td>12</td>\n",
       "      <td>licht</td>\n",
       "      <td>11.59</td>\n",
       "      <td>20.1</td>\n",
       "    </tr>\n",
       "    <tr>\n",
       "      <th>10</th>\n",
       "      <td>student11</td>\n",
       "      <td>TSO</td>\n",
       "      <td>11</td>\n",
       "      <td>matig</td>\n",
       "      <td>10.71</td>\n",
       "      <td>16.8</td>\n",
       "    </tr>\n",
       "    <tr>\n",
       "      <th>11</th>\n",
       "      <td>student12</td>\n",
       "      <td>TSO</td>\n",
       "      <td>10</td>\n",
       "      <td>zwaar</td>\n",
       "      <td>10.31</td>\n",
       "      <td>25.9</td>\n",
       "    </tr>\n",
       "    <tr>\n",
       "      <th>12</th>\n",
       "      <td>student13</td>\n",
       "      <td>TSO</td>\n",
       "      <td>13</td>\n",
       "      <td>geen</td>\n",
       "      <td>12.84</td>\n",
       "      <td>38.0</td>\n",
       "    </tr>\n",
       "    <tr>\n",
       "      <th>13</th>\n",
       "      <td>student14</td>\n",
       "      <td>TSO</td>\n",
       "      <td>11</td>\n",
       "      <td>licht</td>\n",
       "      <td>11.10</td>\n",
       "      <td>28.4</td>\n",
       "    </tr>\n",
       "    <tr>\n",
       "      <th>14</th>\n",
       "      <td>student15</td>\n",
       "      <td>TSO</td>\n",
       "      <td>13</td>\n",
       "      <td>matig</td>\n",
       "      <td>13.11</td>\n",
       "      <td>15.4</td>\n",
       "    </tr>\n",
       "    <tr>\n",
       "      <th>15</th>\n",
       "      <td>student16</td>\n",
       "      <td>TSO</td>\n",
       "      <td>10</td>\n",
       "      <td>licht</td>\n",
       "      <td>9.76</td>\n",
       "      <td>22.3</td>\n",
       "    </tr>\n",
       "    <tr>\n",
       "      <th>16</th>\n",
       "      <td>student17</td>\n",
       "      <td>BSO</td>\n",
       "      <td>2</td>\n",
       "      <td>zwaar</td>\n",
       "      <td>2.04</td>\n",
       "      <td>4.0</td>\n",
       "    </tr>\n",
       "    <tr>\n",
       "      <th>17</th>\n",
       "      <td>student18</td>\n",
       "      <td>BSO</td>\n",
       "      <td>6</td>\n",
       "      <td>matig</td>\n",
       "      <td>6.09</td>\n",
       "      <td>16.2</td>\n",
       "    </tr>\n",
       "    <tr>\n",
       "      <th>18</th>\n",
       "      <td>student19</td>\n",
       "      <td>BSO</td>\n",
       "      <td>4</td>\n",
       "      <td>licht</td>\n",
       "      <td>3.89</td>\n",
       "      <td>2.5</td>\n",
       "    </tr>\n",
       "    <tr>\n",
       "      <th>19</th>\n",
       "      <td>student20</td>\n",
       "      <td>BSO</td>\n",
       "      <td>5</td>\n",
       "      <td>licht</td>\n",
       "      <td>5.06</td>\n",
       "      <td>3.8</td>\n",
       "    </tr>\n",
       "  </tbody>\n",
       "</table>\n",
       "</div>"
      ],
      "text/plain": [
       "         naam vooropleiding  score OLOD1 tweede zit  \\\n",
       "0    student1           ASO           17       geen   \n",
       "1    student2           TSO           10      matig   \n",
       "2    student3           TSO           15       geen   \n",
       "3    student4           TSO            8      zwaar   \n",
       "4    student5           TSO            8      zwaar   \n",
       "5    student6           TSO            8      zwaar   \n",
       "6    student7           TSO           15       geen   \n",
       "7    student8           TSO           13       geen   \n",
       "8    student9           TSO           13       geen   \n",
       "9   student10           TSO           12      licht   \n",
       "10  student11           TSO           11      matig   \n",
       "11  student12           TSO           10      zwaar   \n",
       "12  student13           TSO           13       geen   \n",
       "13  student14           TSO           11      licht   \n",
       "14  student15           TSO           13      matig   \n",
       "15  student16           TSO           10      licht   \n",
       "16  student17           BSO            2      zwaar   \n",
       "17  student18           BSO            6      matig   \n",
       "18  student19           BSO            4      licht   \n",
       "19  student20           BSO            5      licht   \n",
       "\n",
       "    score OLOD1 (voor afronding)  uren gestudeerd  \n",
       "0                          16.86             33.5  \n",
       "1                           9.76             26.0  \n",
       "2                          14.91             28.0  \n",
       "3                           7.65             18.0  \n",
       "4                           7.81             15.0  \n",
       "5                           8.23             19.0  \n",
       "6                          14.77             22.0  \n",
       "7                          13.14             21.6  \n",
       "8                          12.93             24.8  \n",
       "9                          11.59             20.1  \n",
       "10                         10.71             16.8  \n",
       "11                         10.31             25.9  \n",
       "12                         12.84             38.0  \n",
       "13                         11.10             28.4  \n",
       "14                         13.11             15.4  \n",
       "15                          9.76             22.3  \n",
       "16                          2.04              4.0  \n",
       "17                          6.09             16.2  \n",
       "18                          3.89              2.5  \n",
       "19                          5.06              3.8  "
      ]
     },
     "execution_count": 50,
     "metadata": {},
     "output_type": "execute_result"
    }
   ],
   "source": [
    "slaagcijfers_kort"
   ]
  },
  {
   "cell_type": "code",
   "execution_count": 51,
   "metadata": {},
   "outputs": [
    {
     "name": "stdout",
     "output_type": "stream",
     "text": [
      "geen     6\n",
      "zwaar    5\n",
      "licht    5\n",
      "matig    4\n",
      "Name: tweede zit, dtype: int64\n"
     ]
    }
   ],
   "source": [
    "# Staafdiagram van gegeven tweede zit\n",
    "tweede_zit = slaagcijfers_kort['tweede zit']\n",
    "data_bar_plot = tweede_zit.value_counts()\n",
    "print(data_bar_plot)"
   ]
  },
  {
   "cell_type": "code",
   "execution_count": 52,
   "metadata": {},
   "outputs": [
    {
     "data": {
      "image/png": "[encoded data removed]",
      "text/plain": [
       "<Figure size 360x360 with 1 Axes>"
      ]
     },
     "metadata": {
      "needs_background": "light"
     },
     "output_type": "display_data"
    }
   ],
   "source": [
    "bar_plot = data_bar_plot.plot.bar(figsize=(5,5),title = 'Staafdiagram tweede zit')"
   ]
  },
  {
   "cell_type": "code",
   "execution_count": 53,
   "metadata": {},
   "outputs": [
    {
     "name": "stdout",
     "output_type": "stream",
     "text": [
      "matig    4\n",
      "licht    5\n",
      "zwaar    5\n",
      "geen     6\n",
      "Name: tweede zit, dtype: int64\n"
     ]
    },
    {
     "data": {
      "image/png": "[encoded data removed]",
      "text/plain": [
       "<Figure size 360x360 with 1 Axes>"
      ]
     },
     "metadata": {
      "needs_background": "light"
     },
     "output_type": "display_data"
    }
   ],
   "source": [
    "data_bar_plot = tweede_zit.value_counts(sort = False)\n",
    "print(data_bar_plot)\n",
    "bar_plot = data_bar_plot.plot.bar(figsize=(5,5),title = 'Staafdiagram tweede zit')\n"
   ]
  },
  {
   "cell_type": "code",
   "execution_count": 54,
   "metadata": {},
   "outputs": [],
   "source": [
    "# Histogram: score OLOD1 (voor afronding)\n",
    "score_OLOD1 = slaagcijfers_kort['score OLOD1 (voor afronding)']"
   ]
  },
  {
   "cell_type": "code",
   "execution_count": 55,
   "metadata": {},
   "outputs": [
    {
     "data": {
      "text/plain": [
       "<matplotlib.axes._subplots.AxesSubplot at 0x1deb2080470>"
      ]
     },
     "execution_count": 55,
     "metadata": {},
     "output_type": "execute_result"
    },
    {
     "data": {
      "image/png": "[encoded data removed]",
      "text/plain": [
       "<Figure size 432x288 with 1 Axes>"
      ]
     },
     "metadata": {
      "needs_background": "light"
     },
     "output_type": "display_data"
    }
   ],
   "source": [
    "score_OLOD1.plot(kind = 'hist', title = 'Histogram Score OLOD1')"
   ]
  },
  {
   "cell_type": "code",
   "execution_count": 56,
   "metadata": {},
   "outputs": [
    {
     "data": {
      "text/plain": [
       "<matplotlib.axes._subplots.AxesSubplot at 0x1deb2050208>"
      ]
     },
     "execution_count": 56,
     "metadata": {},
     "output_type": "execute_result"
    },
    {
     "data": {
      "image/png": "[encoded data removed]",
      "text/plain": [
       "<Figure size 432x288 with 1 Axes>"
      ]
     },
     "metadata": {
      "needs_background": "light"
     },
     "output_type": "display_data"
    }
   ],
   "source": [
    "#Boxplot\n",
    "slaagcijfers_kort[slaagcijfers_kort['score OLOD1 (voor afronding)'].notnull()].boxplot('score OLOD1 (voor afronding)')"
   ]
  },
  {
   "cell_type": "code",
   "execution_count": 58,
   "metadata": {},
   "outputs": [
    {
     "data": {
      "text/plain": [
       "<matplotlib.collections.PathCollection at 0x1deb2192a58>"
      ]
     },
     "execution_count": 58,
     "metadata": {},
     "output_type": "execute_result"
    },
    {
     "data": {
      "image/png": "[encoded data removed]",
      "text/plain": [
       "<Figure size 432x288 with 1 Axes>"
      ]
     },
     "metadata": {
      "needs_background": "light"
     },
     "output_type": "display_data"
    }
   ],
   "source": [
    "#Scatterplot\n",
    "plt.scatter(slaagcijfers_kort['score OLOD1 (voor afronding)'], slaagcijfers_kort['uren gestudeerd'])"
   ]
  },
  {
   "cell_type": "code",
   "execution_count": null,
   "metadata": {},
   "outputs": [],
   "source": []
  }
 ],
 "metadata": {
  "kernelspec": {
   "display_name": "Python 3",
   "language": "python",
   "name": "python3"
  },
  "language_info": {
   "codemirror_mode": {
    "name": "ipython",
    "version": 3
   },
   "file_extension": ".py",
   "mimetype": "text/x-python",
   "name": "python",
   "nbconvert_exporter": "python",
   "pygments_lexer": "ipython3",
   "version": "3.7.3"
  }
 },
 "nbformat": 4,
 "nbformat_minor": 2
}
