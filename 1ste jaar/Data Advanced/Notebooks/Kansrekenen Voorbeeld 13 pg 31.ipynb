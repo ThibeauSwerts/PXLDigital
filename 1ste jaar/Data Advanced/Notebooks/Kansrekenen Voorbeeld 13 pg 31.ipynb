{
 "cells": [
  {
   "cell_type": "code",
   "execution_count": 2,
   "metadata": {},
   "outputs": [],
   "source": [
    "import random\n",
    "from random import randint"
   ]
  },
  {
   "cell_type": "code",
   "execution_count": 1,
   "metadata": {},
   "outputs": [],
   "source": [
    "aantal_studenten = 475\n",
    "aantal_vakken = 3"
   ]
  },
  {
   "cell_type": "code",
   "execution_count": 10,
   "metadata": {},
   "outputs": [],
   "source": [
    "#To Do: Creëer een 2 dim list \"data\". Aantal rijen = aantal_studenten / aantal kolommen = aantal_vakken. \n",
    "#Vul deze op met de juiste verdeling van 'ja' & 'neen' zoals voorzien in voorbeeld 13 pg 31\n",
    "#Kolom1 = Python volgen\n",
    "#Kolom2 = SQL volgen\n",
    "#Kolom3 = Data Adv volgen"
   ]
  },
  {
   "cell_type": "code",
   "execution_count": 57,
   "metadata": {},
   "outputs": [],
   "source": [
    "#Oplossing: List \"data\" creëren:\n",
    "data = []\n",
    "for i in range(aantal_studenten):\n",
    "    if i < 25:\n",
    "        data.append(['ja', 'ja', 'ja'])\n",
    "    elif i < 60:\n",
    "        data.append(['ja', 'neen', 'neen'])\n",
    "    elif i < 235:\n",
    "        data.append(['ja', 'neen', 'neen'])\n",
    "    elif i < 290:\n",
    "        data>append(['ja', 'neen', 'neen'])\n",
    "    elif i < 335:\n",
    "        data.append(['ja', 'neen', 'neen'])\n",
    "    elif i < 410:\n",
    "        data.append(['ja', 'neen', 'neen'])\n",
    "    else:\n",
    "        data.append(['ja', 'neen', 'neen'])\n",
    "\n"
   ]
  },
  {
   "cell_type": "code",
   "execution_count": 1,
   "metadata": {},
   "outputs": [
    {
     "output_type": "error",
     "ename": "SyntaxError",
     "evalue": "unexpected EOF while parsing (<ipython-input-1-240a5971e949>, line 19)",
     "traceback": [
      "\u001b[1;36m  File \u001b[1;32m\"<ipython-input-1-240a5971e949>\"\u001b[1;36m, line \u001b[1;32m19\u001b[0m\n\u001b[1;33m    #4. Python volgt, maar geen SQL en geen Data adv\u001b[0m\n\u001b[1;37m                                                    ^\u001b[0m\n\u001b[1;31mSyntaxError\u001b[0m\u001b[1;31m:\u001b[0m unexpected EOF while parsing\n"
     ]
    }
   ],
   "source": [
    "#To Do: Bereken de kans dat een willekeurig gekozen student\n",
    "#1. Python volgt maar geen Data adv\n",
    "#2. Data adv volgt maar geen SQL\n",
    "#3. Python of Data adv volgt, maar geen SQL\n",
    "#4. Python volgt, maar geen SQL en geen Data adv"
   ]
  },
  {
   "cell_type": "code",
   "execution_count": null,
   "metadata": {},
   "outputs": [],
   "source": [
    "#Oplossing 1: Python maar geen Data adv"
   ]
  },
  {
   "cell_type": "code",
   "execution_count": 60,
   "metadata": {},
   "outputs": [
    {
     "name": "stdout",
     "output_type": "stream",
     "text": [
      "Het aantal studenten dat Python volgt, maar geen data adv is  120\n",
      "De kans dat een student Python volgt maar geen data adv is  0.25263157894736843\n"
     ]
    }
   ],
   "source": [
    "aantal = 0\n",
    "for i in range(aantal_studenten):\n",
    "    if data[i][0] == 'ja' and not(data[i][2] == 'ja'):\n",
    "        aantal +=1\n",
    "print(\"Het aantal studenten dat Python volgt, maar geen data adv is \", aantal)\n",
    "print(\"De kans dat een student Python volgt maar geen data adv is \", aantal / aantal_studenten)"
   ]
  },
  {
   "cell_type": "code",
   "execution_count": null,
   "metadata": {},
   "outputs": [],
   "source": [
    "#Oplossing 2: Data adv maar geen SQL"
   ]
  },
  {
   "cell_type": "code",
   "execution_count": 61,
   "metadata": {},
   "outputs": [
    {
     "name": "stdout",
     "output_type": "stream",
     "text": [
      "Het aantal studenten dat data adv volgt, maar geen SQL is  220\n",
      "De kans dat een student data adv volgt maar geen SQL is  0.4631578947368421\n"
     ]
    }
   ],
   "source": [
    "aantal = 0\n",
    "for i in range(aantal_studenten):\n",
    "    if dadta[i][2] == 'ja' and data[i][1] == 'neen':\n",
    "        aantal += 1\n",
    "\n",
    "\n",
    "\n",
    "print(\"Het aantal studenten dat data adv volgt, maar geen SQL is \", aantal)\n",
    "print(\"De kans dat een student data adv volgt maar geen SQL is \", aantal / aantal_studenten)"
   ]
  },
  {
   "cell_type": "code",
   "execution_count": null,
   "metadata": {},
   "outputs": [],
   "source": [
    "#Oplossing 3: Python of Data adv volgt, maar geen SQL\n"
   ]
  },
  {
   "cell_type": "code",
   "execution_count": 62,
   "metadata": {},
   "outputs": [
    {
     "name": "stdout",
     "output_type": "stream",
     "text": [
      "Het aantal studenten die python of data adv volgen maar niet SQL is  285\n",
      "De kans dat een student python of data adv volgt maar geen SQL is  0.6\n"
     ]
    }
   ],
   "source": [
    "aantal = 0\n",
    "for i in range(aantal_studenten):\n",
    "    if (data{i][0] == 'ja' or data[i][2]) and not(data[i][1] == 'ja'):\n",
    "        aantal += 1\n",
    "\n",
    "print(\"Het aantal studenten die python of data adv volgen maar niet SQL is \", aantal)\n",
    "print(\"De kans dat een student python of data adv volgt maar geen SQL is \", aantal / aantal_studenten)"
   ]
  },
  {
   "cell_type": "code",
   "execution_count": null,
   "metadata": {},
   "outputs": [],
   "source": [
    "#Oplossing 4: Python volgt, maar geen SQL en geen Data adv\n"
   ]
  },
  {
   "cell_type": "code",
   "execution_count": 63,
   "metadata": {},
   "outputs": [
    {
     "name": "stdout",
     "output_type": "stream",
     "text": [
      "Het aantal studenten die python volgt maar geen SQL en geen data adv is  65\n",
      "De kans dat een student python volgt maar geen SQL en geen data adv is  0.1368421052631579\n"
     ]
    }
   ],
   "source": [
    "aantal = 0\n",
    "for i in range(aantal_studenten):\n",
    "    if data[i][0] == 'ja' and not(data[i][1] == 'ja' or data[i][2] == 'ja'):\n",
    "        aantal += 1\n",
    "\n",
    "\n",
    "print(\"Het aantal studenten die python volgt maar geen SQL en geen data adv is \", aantal)\n",
    "print(\"De kans dat een student python volgt maar geen SQL en geen data adv is \", aantal / aantal_studenten)"
   ]
  },
  {
   "cell_type": "code",
   "execution_count": null,
   "metadata": {},
   "outputs": [],
   "source": []
  },
  {
   "cell_type": "code",
   "execution_count": null,
   "metadata": {},
   "outputs": [],
   "source": [
    "#To Do: Welke selectie wordt hieronder gemaakt?"
   ]
  },
  {
   "cell_type": "code",
   "execution_count": 64,
   "metadata": {},
   "outputs": [
    {
     "name": "stdout",
     "output_type": "stream",
     "text": [
      "Aantal is  365\n"
     ]
    }
   ],
   "source": [
    "aantal = 0\n",
    "for i in range(aantal_studenten):\n",
    "    if data[i][0] == 'ja' or data[i][2] == 'ja' and not(data[i][1] == 'ja'):\n",
    "        aantal += 1\n",
    "print(\"Aantal is \", aantal)\n"
   ]
  },
  {
   "cell_type": "code",
   "execution_count": null,
   "metadata": {},
   "outputs": [],
   "source": [
    "# all studenten die python volgen of SQL maar niet tegelijk (met SQL) data advanced\n"
   ]
  },
  {
   "cell_type": "code",
   "execution_count": null,
   "metadata": {},
   "outputs": [],
   "source": []
  },
  {
   "cell_type": "code",
   "execution_count": null,
   "metadata": {},
   "outputs": [],
   "source": [
    "# Extra Opgave"
   ]
  },
  {
   "cell_type": "code",
   "execution_count": null,
   "metadata": {},
   "outputs": [],
   "source": [
    "#To Do: Creëer een 2 dim list \"gegevens\". Aantal rijen = aantal_studenten (475) / aantal kolommen = aantal_vakken (3). \n",
    "#Vul deze op met 'ja' of 'neen'. Deze opvulling gebeurt random\n",
    "#Kolom1 = Python volgen\n",
    "#Kolom2 = SQL volgen\n",
    "#Kolom3 = Data Adv volgen"
   ]
  },
  {
   "cell_type": "code",
   "execution_count": 65,
   "metadata": {},
   "outputs": [],
   "source": [
    "#Oplossing: List \"gegevens\" creëren:\n",
    "gegevens = []   \n",
    "antwoorden = ['ja', 'neen']\n",
    "\n"
   ]
  },
  {
   "cell_type": "code",
   "execution_count": 71,
   "metadata": {},
   "outputs": [],
   "source": [
    "#To Do: print(gegevens)\n",
    "\n"
   ]
  },
  {
   "cell_type": "code",
   "execution_count": null,
   "metadata": {},
   "outputs": [],
   "source": []
  },
  {
   "cell_type": "code",
   "execution_count": null,
   "metadata": {},
   "outputs": [],
   "source": [
    "#To Do: Bepaal uit de list \"gegevens\" het aantal studenten dat Python volgt."
   ]
  },
  {
   "cell_type": "code",
   "execution_count": 76,
   "metadata": {},
   "outputs": [],
   "source": [
    "#Oplossing\n",
    "aantal = 0\n",
    "\n"
   ]
  },
  {
   "cell_type": "code",
   "execution_count": null,
   "metadata": {},
   "outputs": [],
   "source": [
    "print(\"Het aantal studenten dat Python volgt is\", aantal)"
   ]
  },
  {
   "cell_type": "code",
   "execution_count": null,
   "metadata": {},
   "outputs": [],
   "source": []
  },
  {
   "cell_type": "code",
   "execution_count": null,
   "metadata": {},
   "outputs": [],
   "source": [
    "#To Do: Bepaal uit de list \"gegevens\" het aantal studenten dat Python volgt maar niet SQL. "
   ]
  },
  {
   "cell_type": "code",
   "execution_count": 78,
   "metadata": {},
   "outputs": [],
   "source": [
    "#Oplossing\n",
    "aantal = 0\n",
    "\n",
    "\n"
   ]
  },
  {
   "cell_type": "code",
   "execution_count": null,
   "metadata": {},
   "outputs": [],
   "source": [
    "print(\"Het aantal studenten dat Python volgt maar niet SQL is\", aantal)"
   ]
  },
  {
   "cell_type": "code",
   "execution_count": null,
   "metadata": {},
   "outputs": [],
   "source": []
  },
  {
   "cell_type": "code",
   "execution_count": null,
   "metadata": {},
   "outputs": [],
   "source": [
    "#To Do: Welke studenten worden hier geselecteerd?"
   ]
  },
  {
   "cell_type": "code",
   "execution_count": 80,
   "metadata": {},
   "outputs": [],
   "source": [
    "aantal = 0\n",
    "for i in range(aantal_studenten):\n",
    "    if not(gegevens[i][0] == 'ja' and gegevens[i][1] == 'ja'):\n",
    "        aantal += 1"
   ]
  },
  {
   "cell_type": "code",
   "execution_count": null,
   "metadata": {},
   "outputs": [],
   "source": [
    "#Antwoord: \n"
   ]
  },
  {
   "cell_type": "code",
   "execution_count": null,
   "metadata": {},
   "outputs": [],
   "source": [
    "#To Do: Bepaal uit de list \"gegevens\" het aantal studenten dat Python of data adv volgt maar niet SQL"
   ]
  },
  {
   "cell_type": "code",
   "execution_count": null,
   "metadata": {},
   "outputs": [],
   "source": []
  },
  {
   "cell_type": "code",
   "execution_count": 81,
   "metadata": {},
   "outputs": [],
   "source": [
    "#Oplossing:\n",
    "aantal = 0\n",
    "\n"
   ]
  },
  {
   "cell_type": "code",
   "execution_count": null,
   "metadata": {},
   "outputs": [],
   "source": [
    "print(\"Het aantal studenten dat python of data adv volgt maar niet SQL is \", aantal)"
   ]
  },
  {
   "cell_type": "code",
   "execution_count": null,
   "metadata": {},
   "outputs": [],
   "source": []
  },
  {
   "cell_type": "code",
   "execution_count": null,
   "metadata": {},
   "outputs": [],
   "source": [
    "#To Do: Welke studenten worden hieronder berekend?"
   ]
  },
  {
   "cell_type": "code",
   "execution_count": null,
   "metadata": {},
   "outputs": [],
   "source": [
    "aantal = 0\n",
    "for i in range(aantal_studenten):\n",
    "    if data[i][0] == 'ja' or data[i][2] == 'ja' and not(data[i][1] == 'ja'):\n",
    "        aantal += 1\n"
   ]
  },
  {
   "cell_type": "code",
   "execution_count": null,
   "metadata": {},
   "outputs": [],
   "source": [
    "#Antwoord: "
   ]
  }
 ],
 "metadata": {
  "kernelspec": {
   "display_name": "Python 3",
   "language": "python",
   "name": "python3"
  },
  "language_info": {
   "codemirror_mode": {
    "name": "ipython",
    "version": 3
   },
   "file_extension": ".py",
   "mimetype": "text/x-python",
   "name": "python",
   "nbconvert_exporter": "python",
   "pygments_lexer": "ipython3",
   "version": "3.8.5-final"
  }
 },
 "nbformat": 4,
 "nbformat_minor": 2
}