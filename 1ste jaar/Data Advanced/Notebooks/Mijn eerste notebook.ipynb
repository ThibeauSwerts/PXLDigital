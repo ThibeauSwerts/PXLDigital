{
 "cells": [
  {
   "cell_type": "code",
   "execution_count": 1,
   "metadata": {},
   "outputs": [
    {
     "name": "stdout",
     "output_type": "stream",
     "text": [
      "Hello World\n"
     ]
    }
   ],
   "source": [
    "print(\"Hello World\")\n"
   ]
  },
  {
   "cell_type": "markdown",
   "metadata": {},
   "source": [
    "# Groot"
   ]
  },
  {
   "cell_type": "markdown",
   "metadata": {},
   "source": [
    "## Kleiner"
   ]
  },
  {
   "cell_type": "markdown",
   "metadata": {},
   "source": [
    "### Klein"
   ]
  },
  {
   "cell_type": "code",
   "execution_count": 2,
   "metadata": {},
   "outputs": [
    {
     "data": {
      "text/plain": [
       "5"
      ]
     },
     "execution_count": 2,
     "metadata": {},
     "output_type": "execute_result"
    }
   ],
   "source": [
    "#Simpele expressie\n",
    "2 + 3"
   ]
  },
  {
   "cell_type": "code",
   "execution_count": 3,
   "metadata": {},
   "outputs": [
    {
     "name": "stdout",
     "output_type": "stream",
     "text": [
      "8\n"
     ]
    }
   ],
   "source": [
    "#Variabele\n",
    "x = 8\n",
    "print(x)"
   ]
  },
  {
   "cell_type": "code",
   "execution_count": 5,
   "metadata": {},
   "outputs": [
    {
     "name": "stdout",
     "output_type": "stream",
     "text": [
      "x is groter dan 7\n"
     ]
    }
   ],
   "source": [
    "#selectie\n",
    "if x < 5:\n",
    "    print(\"x is kleiner dan 5\")\n",
    "elif x < 7:\n",
    "    print(\"x is kleiner dan 7 maar groter dan 5\")\n",
    "else:\n",
    "    print(\"x is groter dan 7\")"
   ]
  },
  {
   "cell_type": "code",
   "execution_count": 5,
   "metadata": {},
   "outputs": [
    {
     "name": "stdout",
     "output_type": "stream",
     "text": [
      "0\n",
      "1\n",
      "2\n",
      "3\n",
      "4\n"
     ]
    }
   ],
   "source": [
    "#herhaling: for\n",
    "for i in range(5):\n",
    "    print(i)"
   ]
  },
  {
   "cell_type": "code",
   "execution_count": 12,
   "metadata": {},
   "outputs": [
    {
     "name": "stdout",
     "output_type": "stream",
     "text": [
      "7\n",
      "8\n",
      "9\n"
     ]
    }
   ],
   "source": [
    "#herhaling: while\n",
    "y = 7\n",
    "while y < 10:\n",
    "    print(y)\n",
    "    y += 1"
   ]
  },
  {
   "cell_type": "code",
   "execution_count": 4,
   "metadata": {},
   "outputs": [],
   "source": [
    "#Python functie\n",
    "#ESC + L: toon lijn - nummers\n",
    "def print_hallo(naam):\n",
    "    print(\"Hallo \" + naam)"
   ]
  },
  {
   "cell_type": "code",
   "execution_count": 5,
   "metadata": {},
   "outputs": [
    {
     "name": "stdout",
     "output_type": "stream",
     "text": [
      "Hallo Heidi\n"
     ]
    }
   ],
   "source": [
    "print_hallo(\"Heidi\")"
   ]
  },
  {
   "cell_type": "code",
   "execution_count": 19,
   "metadata": {},
   "outputs": [
    {
     "name": "stdout",
     "output_type": "stream",
     "text": [
      "Python 3.7.3\n"
     ]
    }
   ],
   "source": [
    "! python --version"
   ]
  },
  {
   "cell_type": "code",
   "execution_count": 1,
   "metadata": {},
   "outputs": [],
   "source": [
    "#Logische operatoren: and - or - not\n",
    "geslacht = 'J' #jongen\n",
    "leeftijd = 8"
   ]
  },
  {
   "cell_type": "code",
   "execution_count": 2,
   "metadata": {},
   "outputs": [
    {
     "name": "stdout",
     "output_type": "stream",
     "text": [
      "Dit zijn alle jongens jonger dan 10 jaar\n"
     ]
    }
   ],
   "source": [
    "#Voorbeeld 1\n",
    "if geslacht == 'J' and leeftijd < 10:\n",
    "    print(\"Dit zijn alle jongens jonger dan 10 jaar\")\n",
    "else:\n",
    "    print(\"Dit zijn alle andere kinderen\")"
   ]
  },
  {
   "cell_type": "code",
   "execution_count": 3,
   "metadata": {},
   "outputs": [
    {
     "name": "stdout",
     "output_type": "stream",
     "text": [
      "Dit zijn alle jongens jonger dan 10 jaar\n"
     ]
    }
   ],
   "source": [
    "#Voorbeeld 2\n",
    "if not(geslacht == 'J' and leeftijd < 10):\n",
    "    print(\"Dit zijn alle kinderen BEHALVE jongens jonger dan 10 jaar\")\n",
    "else:\n",
    "    print(\"Dit zijn alle jongens jonger dan 10 jaar\")"
   ]
  },
  {
   "cell_type": "code",
   "execution_count": 4,
   "metadata": {},
   "outputs": [
    {
     "name": "stdout",
     "output_type": "stream",
     "text": [
      "Dit zijn 2 groepen kinderen.\n",
      "Groep 1: Alle meisjes (ongeacht hun leeftijd)\n",
      "Groep 2: Alle kinderen van jonger dan 10 jaar (ongeacht hun geslacht)\n"
     ]
    }
   ],
   "source": [
    "#Voorbeeld 3\n",
    "if geslacht != 'J' or leeftijd < 10:\n",
    "    print(\"Dit zijn 2 groepen kinderen.\")\n",
    "    print(\"Groep 1: Alle meisjes (ongeacht hun leeftijd)\")\n",
    "    print(\"Groep 2: Alle kinderen van jonger dan 10 jaar (ongeacht hun geslacht)\")\n",
    "else:\n",
    "    print(\"Hier blijven enkel de jongenss ouder dan 10 over.\")"
   ]
  },
  {
   "cell_type": "code",
   "execution_count": null,
   "metadata": {},
   "outputs": [],
   "source": []
  },
  {
   "cell_type": "code",
   "execution_count": 7,
   "metadata": {},
   "outputs": [
    {
     "name": "stdout",
     "output_type": "stream",
     "text": [
      "4\n",
      "-66\n"
     ]
    }
   ],
   "source": [
    "#Lists\n",
    "getallenlijst = [4, 88, -66, 21.5]\n",
    "print(len(getallenlijst))\n",
    "print(getallenlijst[2])"
   ]
  },
  {
   "cell_type": "code",
   "execution_count": 9,
   "metadata": {},
   "outputs": [
    {
     "name": "stdout",
     "output_type": "stream",
     "text": [
      "4\n",
      "88\n",
      "-66\n",
      "21.5\n"
     ]
    }
   ],
   "source": [
    "for i in range(len(getallenlijst)):\n",
    "    print(getallenlijst[i])"
   ]
  },
  {
   "cell_type": "code",
   "execution_count": 10,
   "metadata": {},
   "outputs": [
    {
     "name": "stdout",
     "output_type": "stream",
     "text": [
      "4\n",
      "88\n",
      "-66\n",
      "21.5\n"
     ]
    }
   ],
   "source": [
    "for getal in getallenlijst:\n",
    "    print(getal)"
   ]
  },
  {
   "cell_type": "code",
   "execution_count": 11,
   "metadata": {},
   "outputs": [
    {
     "name": "stdout",
     "output_type": "stream",
     "text": [
      "[4, 88, -66, 21.5, 8]\n"
     ]
    }
   ],
   "source": [
    "getallenlijst.append(8)\n",
    "print(getallenlijst)"
   ]
  },
  {
   "cell_type": "code",
   "execution_count": 15,
   "metadata": {},
   "outputs": [
    {
     "name": "stdout",
     "output_type": "stream",
     "text": [
      "['ja', 'nee', 'ja', 'nee', 'ja', 'nee']\n",
      "nee\n"
     ]
    }
   ],
   "source": [
    "woordenlijst = ['ja', 'nee']\n",
    "woordenlijst = woordenlijst * 3\n",
    "print(woordenlijst)\n",
    "print(woordenlijst[5])\n"
   ]
  },
  {
   "cell_type": "code",
   "execution_count": 18,
   "metadata": {},
   "outputs": [
    {
     "name": "stdout",
     "output_type": "stream",
     "text": [
      "['b', 'c']\n",
      "e\n"
     ]
    }
   ],
   "source": [
    "geneste_woordenlijst = [['a'], ['b', 'c'], ['d', 'e', 'f']]\n",
    "print(geneste_woordenlijst[1])\n",
    "print(geneste_woordenlijst[2][1])"
   ]
  },
  {
   "cell_type": "code",
   "execution_count": null,
   "metadata": {},
   "outputs": [],
   "source": []
  }
 ],
 "metadata": {
  "kernelspec": {
   "display_name": "Python 3",
   "language": "python",
   "name": "python3"
  },
  "language_info": {
   "codemirror_mode": {
    "name": "ipython",
    "version": 3
   },
   "file_extension": ".py",
   "mimetype": "text/x-python",
   "name": "python",
   "nbconvert_exporter": "python",
   "pygments_lexer": "ipython3",
   "version": "3.7.3"
  }
 },
 "nbformat": 4,
 "nbformat_minor": 2
}
